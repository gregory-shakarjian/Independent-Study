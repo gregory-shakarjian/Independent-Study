{
 "cells": [
  {
   "cell_type": "markdown",
   "id": "2212ea45-3a53-425e-8898-6ed2d3697d17",
   "metadata": {},
   "source": [
    "<a href = \"https://www.pieriantraining.com\"><img src=\"../PT Centered Purple.png\"> </a>\n",
    "\n",
    "<em style=\"text-align:center\">Copyrighted by Pierian Training</em>"
   ]
  },
  {
   "cell_type": "markdown",
   "id": "22138968-6bd1-4e21-9acc-50b8fa91b457",
   "metadata": {
    "tags": []
   },
   "source": [
    "# Prompts and Models Exercise - Example Solution\n",
    "\n",
    "**TASK: Create a Python function that uses Prompts and Chat internally to give travel ideas related to two variables:**\n",
    "\n",
    "    * An Interest or Hobby\n",
    "    * A Budget\n",
    "    \n",
    "Remember that you should also decide on a system prompt. The end function will just be a nice wrapper on top of all the previous LangChain components we've discussed earlier."
   ]
  },
  {
   "cell_type": "code",
   "execution_count": 24,
   "id": "15e5de41-7256-456e-b3cd-26f26b24b08a",
   "metadata": {},
   "outputs": [],
   "source": [
    "def travel_idea(interest,budget):\n",
    "    '''\n",
    "    INPUTS:\n",
    "        interest: A str interest or hobby (e.g. fishing)\n",
    "        budget: A str budget (e.g. $10,000)\n",
    "    '''\n",
    "    pass"
   ]
  },
  {
   "cell_type": "markdown",
   "id": "87ee4907-96cf-457d-9455-937db0ed9b72",
   "metadata": {},
   "source": [
    "**Example Solution**\n",
    "\n",
    "Keep in mind your solution may differ slightly, but as long as it works, that's ok!"
   ]
  },
  {
   "cell_type": "code",
   "execution_count": 25,
   "id": "d7bf8ecc-ca46-4b88-a8f4-d5eb21dff643",
   "metadata": {},
   "outputs": [],
   "source": [
    "import os\n",
    "api_key = os.getenv('OPENAI_API_KEY')"
   ]
  },
  {
   "cell_type": "code",
   "execution_count": 26,
   "id": "d5b5ad98-d184-4dc3-b553-0dbe2200f4fd",
   "metadata": {},
   "outputs": [],
   "source": [
    "from langchain.chat_models import ChatOpenAI\n",
    "from langchain.prompts import (\n",
    "    ChatPromptTemplate,\n",
    "    PromptTemplate,\n",
    "    SystemMessagePromptTemplate,\n",
    "    AIMessagePromptTemplate,\n",
    "    HumanMessagePromptTemplate,\n",
    ")\n",
    "\n",
    "def deck_idea(interest,budget):\n",
    "    system_template=\"You are a Magic the Gathering expert that builds {interest} decks on a budget of {budget}\"\n",
    "    system_message_prompt = SystemMessagePromptTemplate.from_template(system_template)\n",
    "\n",
    "    human_template=\"{help_request}\"\n",
    "    human_message_prompt = HumanMessagePromptTemplate.from_template(human_template)\n",
    "    \n",
    "    chat_prompt = ChatPromptTemplate.from_messages([system_message_prompt, human_message_prompt])\n",
    "    \n",
    "    request = chat_prompt.format_prompt(interest=interest, budget=budget, help_request=\"Please build me a 100 card commander deck\").to_messages()\n",
    "    \n",
    "    chat = ChatOpenAI(openai_api_key=api_key)\n",
    "    result = chat(request)\n",
    "    return result.content"
   ]
  },
  {
   "cell_type": "code",
   "execution_count": 27,
   "id": "e96ce218-3b9e-4563-a1ab-071cff41d2f2",
   "metadata": {},
   "outputs": [
    {
     "name": "stdout",
     "output_type": "stream",
     "text": [
      "Sure! Here's a budget-friendly 100-card Commander deck for you:\n",
      "\n",
      "Commander:\n",
      "1. [[Edric, Spymaster of Trest]] - $2.50\n",
      "\n",
      "Creatures:\n",
      "1. [[Trygon Predator]] - $1.50\n",
      "2. [[Coiling Oracle]] - $0.50\n",
      "3. [[Elvish Visionary]] - $0.25\n",
      "4. [[Sakura-Tribe Elder]] - $0.50\n",
      "5. [[Llanowar Elves]] - $0.25\n",
      "6. [[Fyndhorn Elves]] - $0.50\n",
      "7. [[Birds of Paradise]] - $4.50\n",
      "8. [[Simic Sky Swallower]] - $2.00\n",
      "9. [[Plaxcaster Frogling]] - $1.50\n",
      "10. [[Lorescale Coatl]] - $0.50\n",
      "11. [[Cold-Eyed Selkie]] - $0.50\n",
      "12. [[Thassa, Deep-Dwelling]] - $3.50\n",
      "13. [[Mulldrifter]] - $0.50\n",
      "14. [[Eternal Witness]] - $1.50\n",
      "15. [[Rampaging Baloths]] - $1.00\n",
      "16. [[Mystic Snake]] - $1.50\n",
      "17. [[Trygon Predator]] - $1.50\n",
      "18. [[Prime Speaker Zegana]] - $2.50\n",
      "19. [[Soul of the Harvest]] - $1.50\n",
      "20. [[Craterhoof Behemoth]] - $6.00\n",
      "\n",
      "Instants:\n",
      "1. [[Counterspell]] - $0.50\n",
      "2. [[Cyclonic Rift]] - $15.00\n",
      "3. [[Beast Within]] - $0.50\n",
      "4. [[Simic Charm]] - $0.25\n",
      "5. [[Disallow]] - $1.50\n",
      "6. [[Negate]] - $0.25\n",
      "7. [[Swan Song]] - $3.00\n",
      "8. [[Mystic Confluence]] - $2.50\n",
      "9. [[Reality Shift]] - $0.25\n",
      "10. [[Pongify]] - $0.50\n",
      "11. [[Rapid Hybridization]] - $0.50\n",
      "\n",
      "Sorceries:\n",
      "1. [[Cultivate]] - $0.50\n",
      "2. [[Kodama's Reach]] - $0.50\n",
      "3. [[Rampant Growth]] - $0.25\n",
      "4. [[Green Sun's Zenith]] - $5.00\n",
      "5. [[Praetor's Counsel]] - $2.50\n",
      "6. [[Time Spiral]] - $15.00\n",
      "7. [[Urban Evolution]] - $0.50\n",
      "8. [[Genesis Wave]] - $2.50\n",
      "9. [[Regrowth]] - $0.50\n",
      "\n",
      "Enchantments:\n",
      "1. [[Rhystic Study]] - $10.00\n",
      "2. [[Kiora, Master of the Depths]] - $0.50\n",
      "3. [[Zendikar Resurgent]] - $2.50\n",
      "4. [[Song of the Dryads]] - $1.50\n",
      "5. [[Wilderness Reclamation]] - $1.00\n",
      "\n",
      "Artifacts:\n",
      "1. [[Sol Ring]] - $2.50\n",
      "2. [[Commander's Sphere]] - $0.25\n",
      "3. [[Simic Signet]] - $0.25\n",
      "4. [[Lightning Greaves]] - $2.50\n",
      "5. [[Swiftfoot Boots]] - $2.00\n",
      "6. [[Aetherflux Reservoir]] - $1.50\n",
      "\n",
      "Lands:\n",
      "1. [[Breeding Pool]] - $17.00\n",
      "2. [[Hinterland Harbor]] - $6.00\n",
      "3. [[Yavimaya Coast]] - $2.50\n",
      "4. [[Simic Growth Chamber]] - $0.25\n",
      "5. [[Command Tower]] - $1.00\n",
      "6. [[Reliquary Tower]] - $0.50\n",
      "7. [[Terramorphic Expanse]] - $0.25\n",
      "8. [[Evolving Wilds]] - $0.25\n",
      "9. 34x Forests and Islands (basic lands) - $10.00\n",
      "\n",
      "Total cost: $149.75\n",
      "\n",
      "This deck focuses on using Edric's ability to draw cards and disrupt opponents while building up a strong board presence. The deck contains a mix of creatures with evasive abilities, counter spells, and card draw to maintain card advantage. It also includes some ramp spells to accelerate your mana and powerful finishers like Craterhoof Behemoth. Feel free to make any adjustments or additions based on your preferences and playstyle.\n"
     ]
    }
   ],
   "source": [
    "print(deck_idea('Magic the Gathering','$300'))"
   ]
  },
  {
   "cell_type": "code",
   "execution_count": null,
   "id": "748da355-4537-4df7-be81-d7065034123f",
   "metadata": {},
   "outputs": [],
   "source": []
  }
 ],
 "metadata": {
  "kernelspec": {
   "display_name": "Python 3 (ipykernel)",
   "language": "python",
   "name": "python3"
  },
  "language_info": {
   "codemirror_mode": {
    "name": "ipython",
    "version": 3
   },
   "file_extension": ".py",
   "mimetype": "text/x-python",
   "name": "python",
   "nbconvert_exporter": "python",
   "pygments_lexer": "ipython3",
   "version": "3.11.1"
  }
 },
 "nbformat": 4,
 "nbformat_minor": 5
}
